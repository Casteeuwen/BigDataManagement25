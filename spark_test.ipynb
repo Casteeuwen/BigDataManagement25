{
 "cells": [
  {
   "cell_type": "code",
   "execution_count": 1,
   "metadata": {},
   "outputs": [],
   "source": [
    "from pyspark.sql import SparkSession\n",
    "from pyspark.sql.functions import col\n",
    "import pyspark.sql.functions as f\n",
    "\n"
   ]
  },
  {
   "cell_type": "code",
   "execution_count": 2,
   "metadata": {},
   "outputs": [
    {
     "data": {
      "text/html": [
       "\n",
       "            <div>\n",
       "                <p><b>SparkSession - in-memory</b></p>\n",
       "                \n",
       "        <div>\n",
       "            <p><b>SparkContext</b></p>\n",
       "\n",
       "            <p><a href=\"http://LAPTOP-TTE683VA:4040\">Spark UI</a></p>\n",
       "\n",
       "            <dl>\n",
       "              <dt>Version</dt>\n",
       "                <dd><code>v3.1.3</code></dd>\n",
       "              <dt>Master</dt>\n",
       "                <dd><code>local[*]</code></dd>\n",
       "              <dt>AppName</dt>\n",
       "                <dd><code>cas2</code></dd>\n",
       "            </dl>\n",
       "        </div>\n",
       "        \n",
       "            </div>\n",
       "        "
      ],
      "text/plain": [
       "<pyspark.sql.session.SparkSession at 0x2ad5a63ae80>"
      ]
     },
     "execution_count": 2,
     "metadata": {},
     "output_type": "execute_result"
    }
   ],
   "source": [
    "spark = SparkSession.builder.master(\"local[*]\").appName(\"cas2\").getOrCreate()\n",
    "spark"
   ]
  },
  {
   "cell_type": "markdown",
   "metadata": {},
   "source": [
    "## Weather Data"
   ]
  },
  {
   "cell_type": "code",
   "execution_count": 3,
   "metadata": {},
   "outputs": [],
   "source": [
    "sc = spark.sparkContext \n",
    "\n",
    "#!!! MAKE SURE THAT YOUR TEXTFILE HEADER IS THIS EXACT STRING: !!!\n",
    "\"STATION_ID,DATE,LOCATION,WIND,TMP,DEW,SLP\"\n",
    "\n",
    "weather_path = 'out_2020_header_changed.txt'\n"
   ]
  },
  {
   "cell_type": "code",
   "execution_count": 4,
   "metadata": {},
   "outputs": [
    {
     "name": "stdout",
     "output_type": "stream",
     "text": [
      "+-----------+----------+-----------------+--------------+-------+-------+-------+----------+----------+-----------------+---------+----------+-----------------+\n",
      "| STATION_ID|      DATE|         LOCATION|          WIND|    TMP|    DEW|    SLP|splitcount|wind_angle|wind_qualityAngle|wind_type|wind_speed|wind_qualitySpeed|\n",
      "+-----------+----------+-----------------+--------------+-------+-------+-------+----------+----------+-----------------+---------+----------+-----------------+\n",
      "|99773799999|2020-04-20|SILVER BAY  MN US|260 1 N 0088 1|+0081 1|+9999 9|09973 1|         5|       260|                1|        N|      0088|                1|\n",
      "|99773799999|2020-04-20|SILVER BAY  MN US|260 1 N 0088 1|+0081 1|+9999 9|09973 1|         5|       330|                1|        N|      0082|                1|\n",
      "|99773799999|2020-04-20|SILVER BAY  MN US|260 1 N 0088 1|+0081 1|+9999 9|09973 1|         5|       170|                1|        N|      0026|                1|\n",
      "|99773799999|2020-04-20|SILVER BAY  MN US|260 1 N 0088 1|+0081 1|+9999 9|09973 1|         5|       050|                1|        N|      0072|                1|\n",
      "|99773799999|2020-04-20|SILVER BAY  MN US|260 1 N 0088 1|+0081 1|+9999 9|09973 1|         5|       040|                1|        N|      0046|                1|\n",
      "|99773799999|2020-04-20|SILVER BAY  MN US|260 1 N 0088 1|+0081 1|+9999 9|09973 1|         5|       050|                1|        N|      0036|                1|\n",
      "|99773799999|2020-04-20|SILVER BAY  MN US|260 1 N 0088 1|+0081 1|+9999 9|09973 1|         5|       050|                1|        N|      0026|                1|\n",
      "|99773799999|2020-04-20|SILVER BAY  MN US|260 1 N 0088 1|+0081 1|+9999 9|09973 1|         5|       030|                1|        N|      0046|                1|\n",
      "|99773799999|2020-04-20|SILVER BAY  MN US|260 1 N 0088 1|+0081 1|+9999 9|09973 1|         5|       050|                1|        N|      0041|                1|\n",
      "|99773799999|2020-04-20|SILVER BAY  MN US|260 1 N 0088 1|+0081 1|+9999 9|09973 1|         5|       040|                1|        N|      0051|                1|\n",
      "|99773799999|2020-04-20|SILVER BAY  MN US|260 1 N 0088 1|+0081 1|+9999 9|09973 1|         5|       020|                1|        N|      0015|                1|\n",
      "|99773799999|2020-04-20|SILVER BAY  MN US|260 1 N 0088 1|+0081 1|+9999 9|09973 1|         5|       080|                1|        N|      0015|                1|\n",
      "|99773799999|2020-04-20|SILVER BAY  MN US|260 1 N 0088 1|+0081 1|+9999 9|09973 1|         5|       260|                1|        N|      0021|                1|\n",
      "|99773799999|2020-04-20|SILVER BAY  MN US|260 1 N 0088 1|+0081 1|+9999 9|09973 1|         5|       280|                1|        N|      0072|                1|\n",
      "|99773799999|2020-04-20|SILVER BAY  MN US|260 1 N 0088 1|+0081 1|+9999 9|09973 1|         5|       010|                1|        N|      0046|                1|\n",
      "|99773799999|2020-04-20|SILVER BAY  MN US|260 1 N 0088 1|+0081 1|+9999 9|09973 1|         5|       060|                1|        N|      0046|                1|\n",
      "|99773799999|2020-04-20|SILVER BAY  MN US|260 1 N 0088 1|+0081 1|+9999 9|09973 1|         5|       999|                9|        C|      0000|                1|\n",
      "|99773799999|2020-04-20|SILVER BAY  MN US|260 1 N 0088 1|+0081 1|+9999 9|09973 1|         5|       060|                1|        N|      0026|                1|\n",
      "|99773799999|2020-04-20|SILVER BAY  MN US|260 1 N 0088 1|+0081 1|+9999 9|09973 1|         5|       360|                1|        N|      0082|                1|\n",
      "|99773799999|2020-04-20|SILVER BAY  MN US|260 1 N 0088 1|+0081 1|+9999 9|09973 1|         5|       350|                1|        N|      0057|                1|\n",
      "+-----------+----------+-----------------+--------------+-------+-------+-------+----------+----------+-----------------+---------+----------+-----------------+\n",
      "only showing top 20 rows\n",
      "\n"
     ]
    }
   ],
   "source": [
    "df1 = spark.read.option(\"header\", \"true\").csv(weather_path)\n",
    "\n",
    "# Apply transformations and filter abnormal wind data columns\n",
    "df_wind_data_counts = df1.withColumn(\"splitcount\", f.size(f.split(df1.WIND, \" \")))\n",
    "# Filter out columns which do not have 5 elements in the wind information\n",
    "df_filtered_wind_data_counts = df_wind_data_counts.filter(\"splitcount == 5\")\n",
    "wind_split =df_filtered_wind_data_counts.select(f.split(df_filtered_wind_data_counts.WIND,\" \")).rdd.flatMap(lambda x: x).toDF(schema=[\"wind_angle\", \"wind_qualityAngle\", \"wind_type\", \"wind_speed\", \"wind_qualitySpeed\"])\n",
    "dfnew = df_filtered_wind_data_counts.join(wind_split)\n",
    "dfnew.show()"
   ]
  },
  {
   "cell_type": "code",
   "execution_count": 5,
   "metadata": {},
   "outputs": [
    {
     "name": "stdout",
     "output_type": "stream",
     "text": [
      "+-----------+----------+-----------------+--------------+-------+-------+-------+----------+----------+-----------------+---------+----------+-----------------+-------+-----------+-------+-----------+-------+-----------+\n",
      "| STATION_ID|      DATE|         LOCATION|          WIND|    TMP|    DEW|    SLP|splitcount|wind_angle|wind_qualityAngle|wind_type|wind_speed|wind_qualitySpeed|tmp_val|tmp_quality|dew_val|dew_quality|slp_val|slp_quality|\n",
      "+-----------+----------+-----------------+--------------+-------+-------+-------+----------+----------+-----------------+---------+----------+-----------------+-------+-----------+-------+-----------+-------+-----------+\n",
      "|99773799999|2020-04-20|SILVER BAY  MN US|260 1 N 0088 1|+0081 1|+9999 9|09973 1|         5|       260|                1|        N|      0088|                1|  +0081|          1|  +9999|          9|  09973|          1|\n",
      "|99773799999|2020-04-20|SILVER BAY  MN US|260 1 N 0088 1|+0081 1|+9999 9|09973 1|         5|       330|                1|        N|      0082|                1|  +0081|          1|  +9999|          9|  09973|          1|\n",
      "|99773799999|2020-04-20|SILVER BAY  MN US|260 1 N 0088 1|+0081 1|+9999 9|09973 1|         5|       170|                1|        N|      0026|                1|  +0081|          1|  +9999|          9|  09973|          1|\n",
      "|99773799999|2020-04-20|SILVER BAY  MN US|260 1 N 0088 1|+0081 1|+9999 9|09973 1|         5|       050|                1|        N|      0072|                1|  +0081|          1|  +9999|          9|  09973|          1|\n",
      "|99773799999|2020-04-20|SILVER BAY  MN US|260 1 N 0088 1|+0081 1|+9999 9|09973 1|         5|       040|                1|        N|      0046|                1|  +0081|          1|  +9999|          9|  09973|          1|\n",
      "|99773799999|2020-04-20|SILVER BAY  MN US|260 1 N 0088 1|+0081 1|+9999 9|09973 1|         5|       050|                1|        N|      0036|                1|  +0081|          1|  +9999|          9|  09973|          1|\n",
      "|99773799999|2020-04-20|SILVER BAY  MN US|260 1 N 0088 1|+0081 1|+9999 9|09973 1|         5|       050|                1|        N|      0026|                1|  +0081|          1|  +9999|          9|  09973|          1|\n",
      "|99773799999|2020-04-20|SILVER BAY  MN US|260 1 N 0088 1|+0081 1|+9999 9|09973 1|         5|       030|                1|        N|      0046|                1|  +0081|          1|  +9999|          9|  09973|          1|\n",
      "|99773799999|2020-04-20|SILVER BAY  MN US|260 1 N 0088 1|+0081 1|+9999 9|09973 1|         5|       050|                1|        N|      0041|                1|  +0081|          1|  +9999|          9|  09973|          1|\n",
      "|99773799999|2020-04-20|SILVER BAY  MN US|260 1 N 0088 1|+0081 1|+9999 9|09973 1|         5|       040|                1|        N|      0051|                1|  +0081|          1|  +9999|          9|  09973|          1|\n",
      "|99773799999|2020-04-20|SILVER BAY  MN US|260 1 N 0088 1|+0081 1|+9999 9|09973 1|         5|       020|                1|        N|      0015|                1|  +0081|          1|  +9999|          9|  09973|          1|\n",
      "|99773799999|2020-04-20|SILVER BAY  MN US|260 1 N 0088 1|+0081 1|+9999 9|09973 1|         5|       080|                1|        N|      0015|                1|  +0081|          1|  +9999|          9|  09973|          1|\n",
      "|99773799999|2020-04-20|SILVER BAY  MN US|260 1 N 0088 1|+0081 1|+9999 9|09973 1|         5|       260|                1|        N|      0021|                1|  +0081|          1|  +9999|          9|  09973|          1|\n",
      "|99773799999|2020-04-20|SILVER BAY  MN US|260 1 N 0088 1|+0081 1|+9999 9|09973 1|         5|       280|                1|        N|      0072|                1|  +0081|          1|  +9999|          9|  09973|          1|\n",
      "|99773799999|2020-04-20|SILVER BAY  MN US|260 1 N 0088 1|+0081 1|+9999 9|09973 1|         5|       010|                1|        N|      0046|                1|  +0081|          1|  +9999|          9|  09973|          1|\n",
      "|99773799999|2020-04-20|SILVER BAY  MN US|260 1 N 0088 1|+0081 1|+9999 9|09973 1|         5|       060|                1|        N|      0046|                1|  +0081|          1|  +9999|          9|  09973|          1|\n",
      "|99773799999|2020-04-20|SILVER BAY  MN US|260 1 N 0088 1|+0081 1|+9999 9|09973 1|         5|       999|                9|        C|      0000|                1|  +0081|          1|  +9999|          9|  09973|          1|\n",
      "|99773799999|2020-04-20|SILVER BAY  MN US|260 1 N 0088 1|+0081 1|+9999 9|09973 1|         5|       060|                1|        N|      0026|                1|  +0081|          1|  +9999|          9|  09973|          1|\n",
      "|99773799999|2020-04-20|SILVER BAY  MN US|260 1 N 0088 1|+0081 1|+9999 9|09973 1|         5|       360|                1|        N|      0082|                1|  +0081|          1|  +9999|          9|  09973|          1|\n",
      "|99773799999|2020-04-20|SILVER BAY  MN US|260 1 N 0088 1|+0081 1|+9999 9|09973 1|         5|       350|                1|        N|      0057|                1|  +0081|          1|  +9999|          9|  09973|          1|\n",
      "+-----------+----------+-----------------+--------------+-------+-------+-------+----------+----------+-----------------+---------+----------+-----------------+-------+-----------+-------+-----------+-------+-----------+\n",
      "only showing top 20 rows\n",
      "\n"
     ]
    }
   ],
   "source": [
    "#Split other columns into multiples\n",
    "dfnewer = dfnew.withColumn('tmp_val', f.split(dfnew['TMP'], ' ').getItem(0)).withColumn('tmp_quality', f.split(dfnew['TMP'], ' ').getItem(1))\n",
    "dfnewer = dfnewer.withColumn('dew_val', f.split(dfnewer['DEW'], ' ').getItem(0)).withColumn('dew_quality', f.split(dfnewer['DEW'], ' ').getItem(1))\n",
    "dfnewer = dfnewer.withColumn('slp_val', f.split(dfnewer['SLP'], ' ').getItem(0)).withColumn('slp_quality', f.split(dfnewer['SLP'], ' ').getItem(1))\n",
    "dfnewer.show()"
   ]
  },
  {
   "cell_type": "code",
   "execution_count": 6,
   "metadata": {},
   "outputs": [
    {
     "name": "stdout",
     "output_type": "stream",
     "text": [
      "+-----------+----------+-----------------+----------+-----------------+---------+----------+-----------------+-------+-----------+-------+-----------+-------+-----------+\n",
      "| STATION_ID|      DATE|         LOCATION|wind_angle|wind_qualityAngle|wind_type|wind_speed|wind_qualitySpeed|tmp_val|tmp_quality|dew_val|dew_quality|slp_val|slp_quality|\n",
      "+-----------+----------+-----------------+----------+-----------------+---------+----------+-----------------+-------+-----------+-------+-----------+-------+-----------+\n",
      "|99773799999|2020-04-20|SILVER BAY  MN US|       260|                1|        N|      0088|                1|  +0081|          1|  +9999|          9|  09973|          1|\n",
      "|99773799999|2020-04-20|SILVER BAY  MN US|       330|                1|        N|      0082|                1|  +0081|          1|  +9999|          9|  09973|          1|\n",
      "|99773799999|2020-04-20|SILVER BAY  MN US|       170|                1|        N|      0026|                1|  +0081|          1|  +9999|          9|  09973|          1|\n",
      "|99773799999|2020-04-20|SILVER BAY  MN US|       050|                1|        N|      0072|                1|  +0081|          1|  +9999|          9|  09973|          1|\n",
      "|99773799999|2020-04-20|SILVER BAY  MN US|       040|                1|        N|      0046|                1|  +0081|          1|  +9999|          9|  09973|          1|\n",
      "|99773799999|2020-04-20|SILVER BAY  MN US|       050|                1|        N|      0036|                1|  +0081|          1|  +9999|          9|  09973|          1|\n",
      "|99773799999|2020-04-20|SILVER BAY  MN US|       050|                1|        N|      0026|                1|  +0081|          1|  +9999|          9|  09973|          1|\n",
      "|99773799999|2020-04-20|SILVER BAY  MN US|       030|                1|        N|      0046|                1|  +0081|          1|  +9999|          9|  09973|          1|\n",
      "|99773799999|2020-04-20|SILVER BAY  MN US|       050|                1|        N|      0041|                1|  +0081|          1|  +9999|          9|  09973|          1|\n",
      "|99773799999|2020-04-20|SILVER BAY  MN US|       040|                1|        N|      0051|                1|  +0081|          1|  +9999|          9|  09973|          1|\n",
      "|99773799999|2020-04-20|SILVER BAY  MN US|       020|                1|        N|      0015|                1|  +0081|          1|  +9999|          9|  09973|          1|\n",
      "|99773799999|2020-04-20|SILVER BAY  MN US|       080|                1|        N|      0015|                1|  +0081|          1|  +9999|          9|  09973|          1|\n",
      "|99773799999|2020-04-20|SILVER BAY  MN US|       260|                1|        N|      0021|                1|  +0081|          1|  +9999|          9|  09973|          1|\n",
      "|99773799999|2020-04-20|SILVER BAY  MN US|       280|                1|        N|      0072|                1|  +0081|          1|  +9999|          9|  09973|          1|\n",
      "|99773799999|2020-04-20|SILVER BAY  MN US|       010|                1|        N|      0046|                1|  +0081|          1|  +9999|          9|  09973|          1|\n",
      "|99773799999|2020-04-20|SILVER BAY  MN US|       060|                1|        N|      0046|                1|  +0081|          1|  +9999|          9|  09973|          1|\n",
      "|99773799999|2020-04-20|SILVER BAY  MN US|       999|                9|        C|      0000|                1|  +0081|          1|  +9999|          9|  09973|          1|\n",
      "|99773799999|2020-04-20|SILVER BAY  MN US|       060|                1|        N|      0026|                1|  +0081|          1|  +9999|          9|  09973|          1|\n",
      "|99773799999|2020-04-20|SILVER BAY  MN US|       360|                1|        N|      0082|                1|  +0081|          1|  +9999|          9|  09973|          1|\n",
      "|99773799999|2020-04-20|SILVER BAY  MN US|       350|                1|        N|      0057|                1|  +0081|          1|  +9999|          9|  09973|          1|\n",
      "+-----------+----------+-----------------+----------+-----------------+---------+----------+-----------------+-------+-----------+-------+-----------+-------+-----------+\n",
      "only showing top 20 rows\n",
      "\n"
     ]
    }
   ],
   "source": [
    "df_good_cols = dfnewer.drop(\"splitcount\", \"WIND\", \"TMP\", \"DEW\", \"SLP\")\n",
    "df_good_cols.show()"
   ]
  },
  {
   "cell_type": "code",
   "execution_count": 10,
   "metadata": {},
   "outputs": [
    {
     "name": "stdout",
     "output_type": "stream",
     "text": [
      "+-----------+-----------------+----------+-----------------+---------+----------+-----------------+-------+-----------+-------+-----------+-------+-----------+----+-----+---+\n",
      "| STATION_ID|         LOCATION|wind_angle|wind_qualityAngle|wind_type|wind_speed|wind_qualitySpeed|tmp_val|tmp_quality|dew_val|dew_quality|slp_val|slp_quality|year|month|day|\n",
      "+-----------+-----------------+----------+-----------------+---------+----------+-----------------+-------+-----------+-------+-----------+-------+-----------+----+-----+---+\n",
      "|99773799999|SILVER BAY  MN US|       260|                1|        N|      0088|                1|  +0081|          1|  +9999|          9|  09973|          1|2020|   04| 20|\n",
      "|99773799999|SILVER BAY  MN US|       330|                1|        N|      0082|                1|  +0081|          1|  +9999|          9|  09973|          1|2020|   04| 20|\n",
      "|99773799999|SILVER BAY  MN US|       170|                1|        N|      0026|                1|  +0081|          1|  +9999|          9|  09973|          1|2020|   04| 20|\n",
      "|99773799999|SILVER BAY  MN US|       050|                1|        N|      0072|                1|  +0081|          1|  +9999|          9|  09973|          1|2020|   04| 20|\n",
      "|99773799999|SILVER BAY  MN US|       040|                1|        N|      0046|                1|  +0081|          1|  +9999|          9|  09973|          1|2020|   04| 20|\n",
      "|99773799999|SILVER BAY  MN US|       050|                1|        N|      0036|                1|  +0081|          1|  +9999|          9|  09973|          1|2020|   04| 20|\n",
      "|99773799999|SILVER BAY  MN US|       050|                1|        N|      0026|                1|  +0081|          1|  +9999|          9|  09973|          1|2020|   04| 20|\n",
      "|99773799999|SILVER BAY  MN US|       030|                1|        N|      0046|                1|  +0081|          1|  +9999|          9|  09973|          1|2020|   04| 20|\n",
      "|99773799999|SILVER BAY  MN US|       050|                1|        N|      0041|                1|  +0081|          1|  +9999|          9|  09973|          1|2020|   04| 20|\n",
      "|99773799999|SILVER BAY  MN US|       040|                1|        N|      0051|                1|  +0081|          1|  +9999|          9|  09973|          1|2020|   04| 20|\n",
      "|99773799999|SILVER BAY  MN US|       020|                1|        N|      0015|                1|  +0081|          1|  +9999|          9|  09973|          1|2020|   04| 20|\n",
      "|99773799999|SILVER BAY  MN US|       080|                1|        N|      0015|                1|  +0081|          1|  +9999|          9|  09973|          1|2020|   04| 20|\n",
      "|99773799999|SILVER BAY  MN US|       260|                1|        N|      0021|                1|  +0081|          1|  +9999|          9|  09973|          1|2020|   04| 20|\n",
      "|99773799999|SILVER BAY  MN US|       280|                1|        N|      0072|                1|  +0081|          1|  +9999|          9|  09973|          1|2020|   04| 20|\n",
      "|99773799999|SILVER BAY  MN US|       010|                1|        N|      0046|                1|  +0081|          1|  +9999|          9|  09973|          1|2020|   04| 20|\n",
      "|99773799999|SILVER BAY  MN US|       060|                1|        N|      0046|                1|  +0081|          1|  +9999|          9|  09973|          1|2020|   04| 20|\n",
      "|99773799999|SILVER BAY  MN US|       999|                9|        C|      0000|                1|  +0081|          1|  +9999|          9|  09973|          1|2020|   04| 20|\n",
      "|99773799999|SILVER BAY  MN US|       060|                1|        N|      0026|                1|  +0081|          1|  +9999|          9|  09973|          1|2020|   04| 20|\n",
      "|99773799999|SILVER BAY  MN US|       360|                1|        N|      0082|                1|  +0081|          1|  +9999|          9|  09973|          1|2020|   04| 20|\n",
      "|99773799999|SILVER BAY  MN US|       350|                1|        N|      0057|                1|  +0081|          1|  +9999|          9|  09973|          1|2020|   04| 20|\n",
      "+-----------+-----------------+----------+-----------------+---------+----------+-----------------+-------+-----------+-------+-----------+-------+-----------+----+-----+---+\n",
      "only showing top 20 rows\n",
      "\n"
     ]
    }
   ],
   "source": [
    "df_date_split = df_good_cols.withColumn('year', f.split(df_good_cols['DATE'], '-').getItem(0)).withColumn('month', f.split(df_good_cols['DATE'], '-').getItem(1)).withColumn('day', f.split(df_good_cols['DATE'], '-').getItem(2))\n",
    "df_date_split = df_date_split.drop(\"DATE\")\n",
    "df_date_split.show()"
   ]
  },
  {
   "cell_type": "markdown",
   "metadata": {},
   "source": [
    "## Stocks data"
   ]
  },
  {
   "cell_type": "code",
   "execution_count": 12,
   "metadata": {},
   "outputs": [
    {
     "name": "stdout",
     "output_type": "stream",
     "text": [
      "+--------------------+----------+-----+------+\n",
      "|               Stock|      Date|Price|Volume|\n",
      "+--------------------+----------+-----+------+\n",
      "|32843.Nordamerika...|01/01/2016|18.98| 50635|\n",
      "|32843.Nordamerika...|01/04/2016|18.52| 51616|\n",
      "|32843.Nordamerika...|01/05/2016|19.15| 54898|\n",
      "|32843.Nordamerika...|01/06/2016|19.71| 41555|\n",
      "|32843.Nordamerika...|01/07/2016|19.17| 44430|\n",
      "|32843.Nordamerika...|01/08/2016|18.94| 72673|\n",
      "|32843.Nordamerika...|01/11/2016| 19.1| 45426|\n",
      "|32843.Nordamerika...|01/12/2016|19.39| 61457|\n",
      "|32843.Nordamerika...|01/13/2016|19.27| 61805|\n",
      "|32843.Nordamerika...|01/14/2016|19.17| 35597|\n",
      "|32843.Nordamerika...|01/15/2016|18.81| 69227|\n",
      "|32843.Nordamerika...|01/18/2016|18.81| 69227|\n",
      "|32843.Nordamerika...|01/19/2016|18.82| 23700|\n",
      "|32843.Nordamerika...|01/20/2016|17.97| 41439|\n",
      "|32843.Nordamerika...|01/21/2016|17.82| 35240|\n",
      "|32843.Nordamerika...|01/22/2016|18.62| 79139|\n",
      "|32843.Nordamerika...|01/25/2016|18.09| 89251|\n",
      "|32843.Nordamerika...|01/26/2016|17.62| 75300|\n",
      "|32843.Nordamerika...|01/27/2016|17.58| 43142|\n",
      "|32843.Nordamerika...|01/28/2016| 17.7| 20499|\n",
      "+--------------------+----------+-----+------+\n",
      "only showing top 20 rows\n",
      "\n"
     ]
    }
   ],
   "source": [
    "\n",
    "stocks_file = \"Stocks.txt\"\n",
    "df_stocks = spark.read.option(\"header\", \"false\").csv(stocks_file)\n",
    "df_stocks =  df_stocks.selectExpr(\n",
    "    '_c0 AS Stock',\n",
    "    '_c1 AS Date',\n",
    "    '_c2 AS Price',\n",
    "    '_c3 AS Volume',\n",
    ")\n",
    "df_stocks.show()"
   ]
  },
  {
   "cell_type": "code",
   "execution_count": 14,
   "metadata": {},
   "outputs": [
    {
     "name": "stdout",
     "output_type": "stream",
     "text": [
      "+--------------------+----------+-----+------+-----+---+----+\n",
      "|               Stock|      Date|Price|Volume|month|day|year|\n",
      "+--------------------+----------+-----+------+-----+---+----+\n",
      "|32843.Nordamerika...|01/01/2016|18.98| 50635|   01| 01|2016|\n",
      "|32843.Nordamerika...|01/04/2016|18.52| 51616|   01| 04|2016|\n",
      "|32843.Nordamerika...|01/05/2016|19.15| 54898|   01| 05|2016|\n",
      "|32843.Nordamerika...|01/06/2016|19.71| 41555|   01| 06|2016|\n",
      "|32843.Nordamerika...|01/07/2016|19.17| 44430|   01| 07|2016|\n",
      "|32843.Nordamerika...|01/08/2016|18.94| 72673|   01| 08|2016|\n",
      "|32843.Nordamerika...|01/11/2016| 19.1| 45426|   01| 11|2016|\n",
      "|32843.Nordamerika...|01/12/2016|19.39| 61457|   01| 12|2016|\n",
      "|32843.Nordamerika...|01/13/2016|19.27| 61805|   01| 13|2016|\n",
      "|32843.Nordamerika...|01/14/2016|19.17| 35597|   01| 14|2016|\n",
      "|32843.Nordamerika...|01/15/2016|18.81| 69227|   01| 15|2016|\n",
      "|32843.Nordamerika...|01/18/2016|18.81| 69227|   01| 18|2016|\n",
      "|32843.Nordamerika...|01/19/2016|18.82| 23700|   01| 19|2016|\n",
      "|32843.Nordamerika...|01/20/2016|17.97| 41439|   01| 20|2016|\n",
      "|32843.Nordamerika...|01/21/2016|17.82| 35240|   01| 21|2016|\n",
      "|32843.Nordamerika...|01/22/2016|18.62| 79139|   01| 22|2016|\n",
      "|32843.Nordamerika...|01/25/2016|18.09| 89251|   01| 25|2016|\n",
      "|32843.Nordamerika...|01/26/2016|17.62| 75300|   01| 26|2016|\n",
      "|32843.Nordamerika...|01/27/2016|17.58| 43142|   01| 27|2016|\n",
      "|32843.Nordamerika...|01/28/2016| 17.7| 20499|   01| 28|2016|\n",
      "+--------------------+----------+-----+------+-----+---+----+\n",
      "only showing top 20 rows\n",
      "\n"
     ]
    }
   ],
   "source": [
    "df_stocks_dates = df_stocks.withColumn('month', f.split(df_stocks['Date'], '/').getItem(0)).withColumn('day', f.split(df_stocks['Date'], '/').getItem(1)).withColumn('year', f.split(df_stocks['Date'], '/').getItem(2))\n",
    "# df_stocks_dates = df_stocks_dates.drop(\"Date\")\n",
    "df_stocks_dates.show()"
   ]
  }
 ],
 "metadata": {
  "interpreter": {
   "hash": "9a95df2450c988ecaa48156885f40f8f4d0aecca6e0393df2e32f71b5b0bf7d9"
  },
  "kernelspec": {
   "display_name": "Python 3.6.8 ('bdm')",
   "language": "python",
   "name": "python3"
  },
  "language_info": {
   "codemirror_mode": {
    "name": "ipython",
    "version": 3
   },
   "file_extension": ".py",
   "mimetype": "text/x-python",
   "name": "python",
   "nbconvert_exporter": "python",
   "pygments_lexer": "ipython3",
   "version": "3.6.8"
  },
  "orig_nbformat": 4
 },
 "nbformat": 4,
 "nbformat_minor": 2
}
