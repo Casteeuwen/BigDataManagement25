{
 "cells": [
  {
   "cell_type": "code",
   "execution_count": 1,
   "metadata": {},
   "outputs": [],
   "source": [
    "from pyspark.sql import SparkSession\n",
    "from pyspark.sql.functions import col\n",
    "import pyspark.sql.functions as f\n",
    "\n"
   ]
  },
  {
   "cell_type": "code",
   "execution_count": 2,
   "metadata": {},
   "outputs": [
    {
     "data": {
      "text/html": [
       "\n",
       "            <div>\n",
       "                <p><b>SparkSession - in-memory</b></p>\n",
       "                \n",
       "        <div>\n",
       "            <p><b>SparkContext</b></p>\n",
       "\n",
       "            <p><a href=\"http://LAPTOP-TTE683VA:4040\">Spark UI</a></p>\n",
       "\n",
       "            <dl>\n",
       "              <dt>Version</dt>\n",
       "                <dd><code>v3.1.3</code></dd>\n",
       "              <dt>Master</dt>\n",
       "                <dd><code>local[*]</code></dd>\n",
       "              <dt>AppName</dt>\n",
       "                <dd><code>cas2</code></dd>\n",
       "            </dl>\n",
       "        </div>\n",
       "        \n",
       "            </div>\n",
       "        "
      ],
      "text/plain": [
       "<pyspark.sql.session.SparkSession at 0x2807ec18e80>"
      ]
     },
     "execution_count": 2,
     "metadata": {},
     "output_type": "execute_result"
    }
   ],
   "source": [
    "spark = SparkSession.builder.master(\"local[*]\").appName(\"cas2\").getOrCreate()\n",
    "spark"
   ]
  },
  {
   "cell_type": "markdown",
   "metadata": {},
   "source": [
    "## Weather Data"
   ]
  },
  {
   "cell_type": "code",
   "execution_count": 3,
   "metadata": {},
   "outputs": [],
   "source": [
    "sc = spark.sparkContext \n",
    "\n",
    "#!!! MAKE SURE THAT YOUR TEXTFILE HEADER IS THIS EXACT STRING: !!!\n",
    "\"STATION_ID,DATE,LOCATION,WIND,TMP,DEW,SLP\"\n",
    "\n",
    "weather_path = 'out_2020_header_changed.txt'\n"
   ]
  },
  {
   "cell_type": "code",
   "execution_count": 4,
   "metadata": {},
   "outputs": [
    {
     "name": "stdout",
     "output_type": "stream",
     "text": [
      "+-----------+----------+-----------------+--------------+-------+-------+-------+----------+----------+-----------------+---------+----------+-----------------+\n",
      "| STATION_ID|      DATE|         LOCATION|          WIND|    TMP|    DEW|    SLP|splitcount|wind_angle|wind_qualityAngle|wind_type|wind_speed|wind_qualitySpeed|\n",
      "+-----------+----------+-----------------+--------------+-------+-------+-------+----------+----------+-----------------+---------+----------+-----------------+\n",
      "|99773799999|2020-04-20|SILVER BAY  MN US|260 1 N 0088 1|+0081 1|+9999 9|09973 1|         5|       260|                1|        N|      0088|                1|\n",
      "|99773799999|2020-04-21|SILVER BAY  MN US|330 1 N 0082 1|+0028 1|+9999 9|10020 1|         5|       330|                1|        N|      0082|                1|\n",
      "|99773799999|2020-04-22|SILVER BAY  MN US|170 1 N 0026 1|+0017 1|+9999 9|10146 1|         5|       170|                1|        N|      0026|                1|\n",
      "|99773799999|2020-04-23|SILVER BAY  MN US|050 1 N 0072 1|+0007 1|+9999 9|10122 1|         5|       050|                1|        N|      0072|                1|\n",
      "|99773799999|2020-04-24|SILVER BAY  MN US|040 1 N 0046 1|+0030 1|+9999 9|10108 1|         5|       040|                1|        N|      0046|                1|\n",
      "|99773799999|2020-04-25|SILVER BAY  MN US|050 1 N 0036 1|+0035 1|+9999 9|10135 1|         5|       050|                1|        N|      0036|                1|\n",
      "|99773799999|2020-04-26|SILVER BAY  MN US|050 1 N 0026 1|+0063 1|+9999 9|10210 1|         5|       050|                1|        N|      0026|                1|\n",
      "|99773799999|2020-04-27|SILVER BAY  MN US|030 1 N 0046 1|+0053 1|+9999 9|10207 1|         5|       030|                1|        N|      0046|                1|\n",
      "|99773799999|2020-04-28|SILVER BAY  MN US|050 1 N 0041 1|+0043 1|+9999 9|10129 1|         5|       050|                1|        N|      0041|                1|\n",
      "|99773799999|2020-04-29|SILVER BAY  MN US|040 1 N 0051 1|+0044 1|+9999 9|10125 1|         5|       040|                1|        N|      0051|                1|\n",
      "|99773799999|2020-04-30|SILVER BAY  MN US|020 1 N 0015 1|+0101 1|+9999 9|10152 1|         5|       020|                1|        N|      0015|                1|\n",
      "|99773799999|2020-05-01|SILVER BAY  MN US|080 1 N 0015 1|+0058 1|+9999 9|10119 1|         5|       080|                1|        N|      0015|                1|\n",
      "|99773799999|2020-05-02|SILVER BAY  MN US|260 1 N 0021 1|+0089 1|+9999 9|10102 1|         5|       260|                1|        N|      0021|                1|\n",
      "|99773799999|2020-05-03|SILVER BAY  MN US|280 1 N 0072 1|+0159 1|+9999 9|10081 1|         5|       280|                1|        N|      0072|                1|\n",
      "|99773799999|2020-05-04|SILVER BAY  MN US|010 1 N 0046 1|+0084 1|+9999 9|10193 1|         5|       010|                1|        N|      0046|                1|\n",
      "|99773799999|2020-05-05|SILVER BAY  MN US|060 1 N 0046 1|+0013 1|+9999 9|10234 1|         5|       060|                1|        N|      0046|                1|\n",
      "|99773799999|2020-05-06|SILVER BAY  MN US|999 9 C 0000 1|+0027 1|+9999 9|10186 1|         5|       999|                9|        C|      0000|                1|\n",
      "|99773799999|2020-05-07|SILVER BAY  MN US|060 1 N 0026 1|+0045 1|+9999 9|10159 1|         5|       060|                1|        N|      0026|                1|\n",
      "|99773799999|2020-05-08|SILVER BAY  MN US|360 1 N 0082 1|+0078 1|+9999 9|10163 1|         5|       360|                1|        N|      0082|                1|\n",
      "|99773799999|2020-05-09|SILVER BAY  MN US|350 1 N 0057 1|+0064 1|+9999 9|10196 1|         5|       350|                1|        N|      0057|                1|\n",
      "+-----------+----------+-----------------+--------------+-------+-------+-------+----------+----------+-----------------+---------+----------+-----------------+\n",
      "only showing top 20 rows\n",
      "\n"
     ]
    }
   ],
   "source": [
    "df1 = spark.read.option(\"header\", \"true\").csv(weather_path)\n",
    "\n",
    "# Apply transformations and filter abnormal wind data columns\n",
    "df_wind_data_counts = df1.withColumn(\"splitcount\", f.size(f.split(df1.WIND, \" \")))\n",
    "# Filter out columns which do not have 5 elements in the wind information\n",
    "df_filtered_wind_data_counts = df_wind_data_counts.filter(\"splitcount == 5\")\n",
    "# wind_split =df_filtered_wind_data_counts.select(f.split(df_filtered_wind_data_counts.WIND,\" \")).rdd.flatMap(lambda x: x).toDF(schema=[\"wind_angle\", \"wind_qualityAngle\", \"wind_type\", \"wind_speed\", \"wind_qualitySpeed\"])\n",
    "## Wind_split\n",
    "dfnew = df_filtered_wind_data_counts.withColumn('wind_angle', f.split(df_filtered_wind_data_counts['WIND'], ' ').getItem(0)).withColumn('wind_qualityAngle', f.split(df_filtered_wind_data_counts['WIND'], ' ').getItem(1)).withColumn('wind_type', f.split(df_filtered_wind_data_counts['WIND'], ' ').getItem(2)).withColumn('wind_speed', f.split(df_filtered_wind_data_counts['WIND'], ' ').getItem(3)).withColumn('wind_qualitySpeed', f.split(df_filtered_wind_data_counts['WIND'], ' ').getItem(4))\n",
    "dfnew.show()\n",
    "\n",
    "# wind_split.show()\n",
    "\n",
    "# dfnew = df_filtered_wind_data_counts.join(wind_split)\n",
    "# dfnew.show()"
   ]
  },
  {
   "cell_type": "code",
   "execution_count": 5,
   "metadata": {},
   "outputs": [
    {
     "name": "stdout",
     "output_type": "stream",
     "text": [
      "+-----------+----------+-----------------+--------------+-------+-------+-------+----------+----------+-----------------+---------+----------+-----------------+-------+-----------+-------+-----------+-------+-----------+\n",
      "| STATION_ID|      DATE|         LOCATION|          WIND|    TMP|    DEW|    SLP|splitcount|wind_angle|wind_qualityAngle|wind_type|wind_speed|wind_qualitySpeed|tmp_val|tmp_quality|dew_val|dew_quality|slp_val|slp_quality|\n",
      "+-----------+----------+-----------------+--------------+-------+-------+-------+----------+----------+-----------------+---------+----------+-----------------+-------+-----------+-------+-----------+-------+-----------+\n",
      "|99773799999|2020-04-20|SILVER BAY  MN US|260 1 N 0088 1|+0081 1|+9999 9|09973 1|         5|       260|                1|        N|      0088|                1|  +0081|          1|  +9999|          9|  09973|          1|\n",
      "|99773799999|2020-04-21|SILVER BAY  MN US|330 1 N 0082 1|+0028 1|+9999 9|10020 1|         5|       330|                1|        N|      0082|                1|  +0028|          1|  +9999|          9|  10020|          1|\n",
      "|99773799999|2020-04-22|SILVER BAY  MN US|170 1 N 0026 1|+0017 1|+9999 9|10146 1|         5|       170|                1|        N|      0026|                1|  +0017|          1|  +9999|          9|  10146|          1|\n",
      "|99773799999|2020-04-23|SILVER BAY  MN US|050 1 N 0072 1|+0007 1|+9999 9|10122 1|         5|       050|                1|        N|      0072|                1|  +0007|          1|  +9999|          9|  10122|          1|\n",
      "|99773799999|2020-04-24|SILVER BAY  MN US|040 1 N 0046 1|+0030 1|+9999 9|10108 1|         5|       040|                1|        N|      0046|                1|  +0030|          1|  +9999|          9|  10108|          1|\n",
      "|99773799999|2020-04-25|SILVER BAY  MN US|050 1 N 0036 1|+0035 1|+9999 9|10135 1|         5|       050|                1|        N|      0036|                1|  +0035|          1|  +9999|          9|  10135|          1|\n",
      "|99773799999|2020-04-26|SILVER BAY  MN US|050 1 N 0026 1|+0063 1|+9999 9|10210 1|         5|       050|                1|        N|      0026|                1|  +0063|          1|  +9999|          9|  10210|          1|\n",
      "|99773799999|2020-04-27|SILVER BAY  MN US|030 1 N 0046 1|+0053 1|+9999 9|10207 1|         5|       030|                1|        N|      0046|                1|  +0053|          1|  +9999|          9|  10207|          1|\n",
      "|99773799999|2020-04-28|SILVER BAY  MN US|050 1 N 0041 1|+0043 1|+9999 9|10129 1|         5|       050|                1|        N|      0041|                1|  +0043|          1|  +9999|          9|  10129|          1|\n",
      "|99773799999|2020-04-29|SILVER BAY  MN US|040 1 N 0051 1|+0044 1|+9999 9|10125 1|         5|       040|                1|        N|      0051|                1|  +0044|          1|  +9999|          9|  10125|          1|\n",
      "|99773799999|2020-04-30|SILVER BAY  MN US|020 1 N 0015 1|+0101 1|+9999 9|10152 1|         5|       020|                1|        N|      0015|                1|  +0101|          1|  +9999|          9|  10152|          1|\n",
      "|99773799999|2020-05-01|SILVER BAY  MN US|080 1 N 0015 1|+0058 1|+9999 9|10119 1|         5|       080|                1|        N|      0015|                1|  +0058|          1|  +9999|          9|  10119|          1|\n",
      "|99773799999|2020-05-02|SILVER BAY  MN US|260 1 N 0021 1|+0089 1|+9999 9|10102 1|         5|       260|                1|        N|      0021|                1|  +0089|          1|  +9999|          9|  10102|          1|\n",
      "|99773799999|2020-05-03|SILVER BAY  MN US|280 1 N 0072 1|+0159 1|+9999 9|10081 1|         5|       280|                1|        N|      0072|                1|  +0159|          1|  +9999|          9|  10081|          1|\n",
      "|99773799999|2020-05-04|SILVER BAY  MN US|010 1 N 0046 1|+0084 1|+9999 9|10193 1|         5|       010|                1|        N|      0046|                1|  +0084|          1|  +9999|          9|  10193|          1|\n",
      "|99773799999|2020-05-05|SILVER BAY  MN US|060 1 N 0046 1|+0013 1|+9999 9|10234 1|         5|       060|                1|        N|      0046|                1|  +0013|          1|  +9999|          9|  10234|          1|\n",
      "|99773799999|2020-05-06|SILVER BAY  MN US|999 9 C 0000 1|+0027 1|+9999 9|10186 1|         5|       999|                9|        C|      0000|                1|  +0027|          1|  +9999|          9|  10186|          1|\n",
      "|99773799999|2020-05-07|SILVER BAY  MN US|060 1 N 0026 1|+0045 1|+9999 9|10159 1|         5|       060|                1|        N|      0026|                1|  +0045|          1|  +9999|          9|  10159|          1|\n",
      "|99773799999|2020-05-08|SILVER BAY  MN US|360 1 N 0082 1|+0078 1|+9999 9|10163 1|         5|       360|                1|        N|      0082|                1|  +0078|          1|  +9999|          9|  10163|          1|\n",
      "|99773799999|2020-05-09|SILVER BAY  MN US|350 1 N 0057 1|+0064 1|+9999 9|10196 1|         5|       350|                1|        N|      0057|                1|  +0064|          1|  +9999|          9|  10196|          1|\n",
      "+-----------+----------+-----------------+--------------+-------+-------+-------+----------+----------+-----------------+---------+----------+-----------------+-------+-----------+-------+-----------+-------+-----------+\n",
      "only showing top 20 rows\n",
      "\n"
     ]
    }
   ],
   "source": [
    "#Split other columns into multiples\n",
    "dfnewer = dfnew.withColumn('tmp_val', f.split(dfnew['TMP'], ' ').getItem(0)).withColumn('tmp_quality', f.split(dfnew['TMP'], ' ').getItem(1))\n",
    "dfnewer = dfnewer.withColumn('dew_val', f.split(dfnewer['DEW'], ' ').getItem(0)).withColumn('dew_quality', f.split(dfnewer['DEW'], ' ').getItem(1))\n",
    "dfnewer = dfnewer.withColumn('slp_val', f.split(dfnewer['SLP'], ' ').getItem(0)).withColumn('slp_quality', f.split(dfnewer['SLP'], ' ').getItem(1))\n",
    "dfnewer.show()"
   ]
  },
  {
   "cell_type": "code",
   "execution_count": 6,
   "metadata": {},
   "outputs": [
    {
     "name": "stdout",
     "output_type": "stream",
     "text": [
      "+-----------+----------+-----------------+----------+-----------------+---------+----------+-----------------+-------+-----------+-------+-----------+-------+-----------+\n",
      "| STATION_ID|      DATE|         LOCATION|wind_angle|wind_qualityAngle|wind_type|wind_speed|wind_qualitySpeed|tmp_val|tmp_quality|dew_val|dew_quality|slp_val|slp_quality|\n",
      "+-----------+----------+-----------------+----------+-----------------+---------+----------+-----------------+-------+-----------+-------+-----------+-------+-----------+\n",
      "|99773799999|2020-04-20|SILVER BAY  MN US|       260|                1|        N|      0088|                1|  +0081|          1|  +9999|          9|  09973|          1|\n",
      "|99773799999|2020-04-21|SILVER BAY  MN US|       330|                1|        N|      0082|                1|  +0028|          1|  +9999|          9|  10020|          1|\n",
      "|99773799999|2020-04-22|SILVER BAY  MN US|       170|                1|        N|      0026|                1|  +0017|          1|  +9999|          9|  10146|          1|\n",
      "|99773799999|2020-04-23|SILVER BAY  MN US|       050|                1|        N|      0072|                1|  +0007|          1|  +9999|          9|  10122|          1|\n",
      "|99773799999|2020-04-24|SILVER BAY  MN US|       040|                1|        N|      0046|                1|  +0030|          1|  +9999|          9|  10108|          1|\n",
      "|99773799999|2020-04-25|SILVER BAY  MN US|       050|                1|        N|      0036|                1|  +0035|          1|  +9999|          9|  10135|          1|\n",
      "|99773799999|2020-04-26|SILVER BAY  MN US|       050|                1|        N|      0026|                1|  +0063|          1|  +9999|          9|  10210|          1|\n",
      "|99773799999|2020-04-27|SILVER BAY  MN US|       030|                1|        N|      0046|                1|  +0053|          1|  +9999|          9|  10207|          1|\n",
      "|99773799999|2020-04-28|SILVER BAY  MN US|       050|                1|        N|      0041|                1|  +0043|          1|  +9999|          9|  10129|          1|\n",
      "|99773799999|2020-04-29|SILVER BAY  MN US|       040|                1|        N|      0051|                1|  +0044|          1|  +9999|          9|  10125|          1|\n",
      "|99773799999|2020-04-30|SILVER BAY  MN US|       020|                1|        N|      0015|                1|  +0101|          1|  +9999|          9|  10152|          1|\n",
      "|99773799999|2020-05-01|SILVER BAY  MN US|       080|                1|        N|      0015|                1|  +0058|          1|  +9999|          9|  10119|          1|\n",
      "|99773799999|2020-05-02|SILVER BAY  MN US|       260|                1|        N|      0021|                1|  +0089|          1|  +9999|          9|  10102|          1|\n",
      "|99773799999|2020-05-03|SILVER BAY  MN US|       280|                1|        N|      0072|                1|  +0159|          1|  +9999|          9|  10081|          1|\n",
      "|99773799999|2020-05-04|SILVER BAY  MN US|       010|                1|        N|      0046|                1|  +0084|          1|  +9999|          9|  10193|          1|\n",
      "|99773799999|2020-05-05|SILVER BAY  MN US|       060|                1|        N|      0046|                1|  +0013|          1|  +9999|          9|  10234|          1|\n",
      "|99773799999|2020-05-06|SILVER BAY  MN US|       999|                9|        C|      0000|                1|  +0027|          1|  +9999|          9|  10186|          1|\n",
      "|99773799999|2020-05-07|SILVER BAY  MN US|       060|                1|        N|      0026|                1|  +0045|          1|  +9999|          9|  10159|          1|\n",
      "|99773799999|2020-05-08|SILVER BAY  MN US|       360|                1|        N|      0082|                1|  +0078|          1|  +9999|          9|  10163|          1|\n",
      "|99773799999|2020-05-09|SILVER BAY  MN US|       350|                1|        N|      0057|                1|  +0064|          1|  +9999|          9|  10196|          1|\n",
      "+-----------+----------+-----------------+----------+-----------------+---------+----------+-----------------+-------+-----------+-------+-----------+-------+-----------+\n",
      "only showing top 20 rows\n",
      "\n"
     ]
    }
   ],
   "source": [
    "df_good_cols = dfnewer.drop(\"splitcount\", \"WIND\", \"TMP\", \"DEW\", \"SLP\")\n",
    "df_good_cols.show()"
   ]
  },
  {
   "cell_type": "code",
   "execution_count": 7,
   "metadata": {},
   "outputs": [
    {
     "name": "stdout",
     "output_type": "stream",
     "text": [
      "+-----------+-----------------+----------+-----------------+---------+----------+-----------------+-------+-----------+-------+-----------+-------+-----------+----+-----+---+\n",
      "| STATION_ID|         LOCATION|wind_angle|wind_qualityAngle|wind_type|wind_speed|wind_qualitySpeed|tmp_val|tmp_quality|dew_val|dew_quality|slp_val|slp_quality|year|month|day|\n",
      "+-----------+-----------------+----------+-----------------+---------+----------+-----------------+-------+-----------+-------+-----------+-------+-----------+----+-----+---+\n",
      "|99773799999|SILVER BAY  MN US|       260|                1|        N|      0088|                1|  +0081|          1|  +9999|          9|  09973|          1|2020|   04| 20|\n",
      "|99773799999|SILVER BAY  MN US|       330|                1|        N|      0082|                1|  +0028|          1|  +9999|          9|  10020|          1|2020|   04| 21|\n",
      "|99773799999|SILVER BAY  MN US|       170|                1|        N|      0026|                1|  +0017|          1|  +9999|          9|  10146|          1|2020|   04| 22|\n",
      "|99773799999|SILVER BAY  MN US|       050|                1|        N|      0072|                1|  +0007|          1|  +9999|          9|  10122|          1|2020|   04| 23|\n",
      "|99773799999|SILVER BAY  MN US|       040|                1|        N|      0046|                1|  +0030|          1|  +9999|          9|  10108|          1|2020|   04| 24|\n",
      "|99773799999|SILVER BAY  MN US|       050|                1|        N|      0036|                1|  +0035|          1|  +9999|          9|  10135|          1|2020|   04| 25|\n",
      "|99773799999|SILVER BAY  MN US|       050|                1|        N|      0026|                1|  +0063|          1|  +9999|          9|  10210|          1|2020|   04| 26|\n",
      "|99773799999|SILVER BAY  MN US|       030|                1|        N|      0046|                1|  +0053|          1|  +9999|          9|  10207|          1|2020|   04| 27|\n",
      "|99773799999|SILVER BAY  MN US|       050|                1|        N|      0041|                1|  +0043|          1|  +9999|          9|  10129|          1|2020|   04| 28|\n",
      "|99773799999|SILVER BAY  MN US|       040|                1|        N|      0051|                1|  +0044|          1|  +9999|          9|  10125|          1|2020|   04| 29|\n",
      "|99773799999|SILVER BAY  MN US|       020|                1|        N|      0015|                1|  +0101|          1|  +9999|          9|  10152|          1|2020|   04| 30|\n",
      "|99773799999|SILVER BAY  MN US|       080|                1|        N|      0015|                1|  +0058|          1|  +9999|          9|  10119|          1|2020|   05| 01|\n",
      "|99773799999|SILVER BAY  MN US|       260|                1|        N|      0021|                1|  +0089|          1|  +9999|          9|  10102|          1|2020|   05| 02|\n",
      "|99773799999|SILVER BAY  MN US|       280|                1|        N|      0072|                1|  +0159|          1|  +9999|          9|  10081|          1|2020|   05| 03|\n",
      "|99773799999|SILVER BAY  MN US|       010|                1|        N|      0046|                1|  +0084|          1|  +9999|          9|  10193|          1|2020|   05| 04|\n",
      "|99773799999|SILVER BAY  MN US|       060|                1|        N|      0046|                1|  +0013|          1|  +9999|          9|  10234|          1|2020|   05| 05|\n",
      "|99773799999|SILVER BAY  MN US|       999|                9|        C|      0000|                1|  +0027|          1|  +9999|          9|  10186|          1|2020|   05| 06|\n",
      "|99773799999|SILVER BAY  MN US|       060|                1|        N|      0026|                1|  +0045|          1|  +9999|          9|  10159|          1|2020|   05| 07|\n",
      "|99773799999|SILVER BAY  MN US|       360|                1|        N|      0082|                1|  +0078|          1|  +9999|          9|  10163|          1|2020|   05| 08|\n",
      "|99773799999|SILVER BAY  MN US|       350|                1|        N|      0057|                1|  +0064|          1|  +9999|          9|  10196|          1|2020|   05| 09|\n",
      "+-----------+-----------------+----------+-----------------+---------+----------+-----------------+-------+-----------+-------+-----------+-------+-----------+----+-----+---+\n",
      "only showing top 20 rows\n",
      "\n"
     ]
    }
   ],
   "source": [
    "df_date_split = df_good_cols.withColumn('year', f.split(df_good_cols['DATE'], '-').getItem(0)).withColumn('month', f.split(df_good_cols['DATE'], '-').getItem(1)).withColumn('day', f.split(df_good_cols['DATE'], '-').getItem(2))\n",
    "df_date_split = df_date_split.drop(\"DATE\")\n",
    "df_date_split.show()"
   ]
  },
  {
   "cell_type": "code",
   "execution_count": 14,
   "metadata": {},
   "outputs": [
    {
     "data": {
      "text/plain": [
       "[Row(avg(month)=6.492774998657439)]"
      ]
     },
     "execution_count": 14,
     "metadata": {},
     "output_type": "execute_result"
    }
   ],
   "source": [
    "from pyspark.sql.functions import col, avg\n",
    "df_date_split.select(avg('month')).collect()"
   ]
  },
  {
   "cell_type": "markdown",
   "metadata": {},
   "source": [
    "## Stocks data"
   ]
  },
  {
   "cell_type": "code",
   "execution_count": 93,
   "metadata": {},
   "outputs": [
    {
     "name": "stdout",
     "output_type": "stream",
     "text": [
      "+--------------------+----------+-----+------+\n",
      "|               Stock|      Date|Price|Volume|\n",
      "+--------------------+----------+-----+------+\n",
      "|32843.Nordamerika...|01/01/2016|18.98| 50635|\n",
      "|32843.Nordamerika...|01/04/2016|18.52| 51616|\n",
      "|32843.Nordamerika...|01/05/2016|19.15| 54898|\n",
      "|32843.Nordamerika...|01/06/2016|19.71| 41555|\n",
      "|32843.Nordamerika...|01/07/2016|19.17| 44430|\n",
      "|32843.Nordamerika...|01/08/2016|18.94| 72673|\n",
      "|32843.Nordamerika...|01/11/2016| 19.1| 45426|\n",
      "|32843.Nordamerika...|01/12/2016|19.39| 61457|\n",
      "|32843.Nordamerika...|01/13/2016|19.27| 61805|\n",
      "|32843.Nordamerika...|01/14/2016|19.17| 35597|\n",
      "|32843.Nordamerika...|01/15/2016|18.81| 69227|\n",
      "|32843.Nordamerika...|01/18/2016|18.81| 69227|\n",
      "|32843.Nordamerika...|01/19/2016|18.82| 23700|\n",
      "|32843.Nordamerika...|01/20/2016|17.97| 41439|\n",
      "|32843.Nordamerika...|01/21/2016|17.82| 35240|\n",
      "|32843.Nordamerika...|01/22/2016|18.62| 79139|\n",
      "|32843.Nordamerika...|01/25/2016|18.09| 89251|\n",
      "|32843.Nordamerika...|01/26/2016|17.62| 75300|\n",
      "|32843.Nordamerika...|01/27/2016|17.58| 43142|\n",
      "|32843.Nordamerika...|01/28/2016| 17.7| 20499|\n",
      "+--------------------+----------+-----+------+\n",
      "only showing top 20 rows\n",
      "\n",
      "root\n",
      " |-- Stock: string (nullable = true)\n",
      " |-- Date: string (nullable = true)\n",
      " |-- Price: float (nullable = true)\n",
      " |-- Volume: integer (nullable = true)\n",
      "\n"
     ]
    }
   ],
   "source": [
    "from pyspark.sql.types import StructType, StructField, StringType, IntegerType, FloatType,TimestampType\n",
    "stocks_file = \"Stocks.txt\"\n",
    "schema = StructType([StructField('_c0', StringType(), False),\\\n",
    "                     StructField('_c1', StringType(), False),\\\n",
    "                     StructField('_c2', FloatType(), False),\\\n",
    "                     StructField('_c3', IntegerType(), False),])\n",
    "\n",
    "df_stocks = spark.read.option(\"header\", \"false\").schema(schema).csv(stocks_file)\n",
    "\n",
    "\n",
    "\n",
    "\n",
    "df_stocks =  df_stocks.selectExpr(\n",
    "    '_c0 AS Stock',\n",
    "    '_c1 AS Date',\n",
    "    '_c2 AS Price',\n",
    "    '_c3 AS Volume',\n",
    ")\n",
    "\n",
    "\n",
    "# df_stocks = df_stocks.withColumn(\"Price\",df_stocks.Price.cast('float'))\n",
    "# df_stocks = df_stocks.withColumn(\"Volume\",df_stocks.Volume.cast('int'))\n",
    "\n",
    "df_stocks.show()\n",
    "df_stocks.printSchema()"
   ]
  },
  {
   "cell_type": "code",
   "execution_count": 94,
   "metadata": {},
   "outputs": [
    {
     "name": "stdout",
     "output_type": "stream",
     "text": [
      "+--------------------+----------+-----+------+-----+---+----+\n",
      "|               Stock|      Date|Price|Volume|month|day|year|\n",
      "+--------------------+----------+-----+------+-----+---+----+\n",
      "|32843.Nordamerika...|01/01/2016|18.98| 50635|    1|  1|2016|\n",
      "|32843.Nordamerika...|01/04/2016|18.52| 51616|    1|  4|2016|\n",
      "|32843.Nordamerika...|01/05/2016|19.15| 54898|    1|  5|2016|\n",
      "|32843.Nordamerika...|01/06/2016|19.71| 41555|    1|  6|2016|\n",
      "|32843.Nordamerika...|01/07/2016|19.17| 44430|    1|  7|2016|\n",
      "|32843.Nordamerika...|01/08/2016|18.94| 72673|    1|  8|2016|\n",
      "|32843.Nordamerika...|01/11/2016| 19.1| 45426|    1| 11|2016|\n",
      "|32843.Nordamerika...|01/12/2016|19.39| 61457|    1| 12|2016|\n",
      "|32843.Nordamerika...|01/13/2016|19.27| 61805|    1| 13|2016|\n",
      "|32843.Nordamerika...|01/14/2016|19.17| 35597|    1| 14|2016|\n",
      "|32843.Nordamerika...|01/15/2016|18.81| 69227|    1| 15|2016|\n",
      "|32843.Nordamerika...|01/18/2016|18.81| 69227|    1| 18|2016|\n",
      "|32843.Nordamerika...|01/19/2016|18.82| 23700|    1| 19|2016|\n",
      "|32843.Nordamerika...|01/20/2016|17.97| 41439|    1| 20|2016|\n",
      "|32843.Nordamerika...|01/21/2016|17.82| 35240|    1| 21|2016|\n",
      "|32843.Nordamerika...|01/22/2016|18.62| 79139|    1| 22|2016|\n",
      "|32843.Nordamerika...|01/25/2016|18.09| 89251|    1| 25|2016|\n",
      "|32843.Nordamerika...|01/26/2016|17.62| 75300|    1| 26|2016|\n",
      "|32843.Nordamerika...|01/27/2016|17.58| 43142|    1| 27|2016|\n",
      "|32843.Nordamerika...|01/28/2016| 17.7| 20499|    1| 28|2016|\n",
      "+--------------------+----------+-----+------+-----+---+----+\n",
      "only showing top 20 rows\n",
      "\n"
     ]
    }
   ],
   "source": [
    "df_stocks_dates = df_stocks.withColumn('month', f.split(df_stocks['Date'], '/').getItem(0).cast('int')).withColumn('day', f.split(df_stocks['Date'], '/').getItem(1).cast('int')).withColumn('year', f.split(df_stocks['Date'], '/').getItem(2).cast('int'))\n",
    "# df_stocks_dates = df_stocks_dates.drop(\"Date\")\n",
    "df_stocks_dates.show()\n"
   ]
  },
  {
   "cell_type": "code",
   "execution_count": 95,
   "metadata": {},
   "outputs": [
    {
     "name": "stdout",
     "output_type": "stream",
     "text": [
      "root\n",
      " |-- Stock: string (nullable = true)\n",
      " |-- Date: string (nullable = true)\n",
      " |-- Price: float (nullable = true)\n",
      " |-- Volume: integer (nullable = true)\n",
      " |-- month: integer (nullable = true)\n",
      " |-- day: integer (nullable = true)\n",
      " |-- year: integer (nullable = true)\n",
      "\n"
     ]
    }
   ],
   "source": [
    "df_stocks_dates.printSchema()"
   ]
  },
  {
   "cell_type": "markdown",
   "metadata": {},
   "source": [
    "## SparkSQL Test"
   ]
  },
  {
   "cell_type": "code",
   "execution_count": 97,
   "metadata": {},
   "outputs": [
    {
     "name": "stdout",
     "output_type": "stream",
     "text": [
      "++\n",
      "||\n",
      "++\n",
      "++\n",
      "\n"
     ]
    }
   ],
   "source": [
    "stock1 = \"32843.Nordamerika_USA-NASDAQ_CRA-International-Inc._CRAI\"\n",
    "stock2 = \"41574.Nordamerika_USA-OTC_Polydex-Pharmaceuticals_POLXF\"\n",
    "stock3 = \"23349.Europa_Schweden_BlackPearl-Resources-Inc.-Reg.-Shares-SDRs-1-o._02155Z\"\n",
    "df_stock_1 = df_stocks_dates.filter(f\"Stock = '{stock1}'\").limit(10).registerTempTable(\"stock1\")\n",
    "df_stock_2 = df_stocks_dates.filter(f\"Stock = '{stock2}'\").limit(10).registerTempTable(\"stock2\")\n",
    "df_stock_3 = df_stocks_dates.filter(f\"Stock = '{stock3}'\").limit(10).registerTempTable(\"stock3\")\n",
    "\n",
    "# spark.sql(\"CACHE TABLE testCache1 OPTIONS ('storageLevel' 'DISK_ONLY') SELECT * FROM stock1\")\n",
    "# spark.sql(\"CACHE TABLE testCache2 OPTIONS ('storageLevel' 'DISK_ONLY') SELECT * FROM stock2\")\n",
    "# spark.sql(\"CACHE TABLE testCache3 OPTIONS ('storageLevel' 'DISK_ONLY') SELECT * FROM stock3\")\n",
    "\n",
    "spark.sql(\"CACHE TABLE stock1\")\n",
    "spark.sql(\"CACHE TABLE stock2\")\n",
    "spark.sql(\"CACHE TABLE stock3\")\n",
    "\n",
    "\n",
    "# UNCOMMENT IF FIRST TIME\n",
    "spark.sql(\\\n",
    "  \"CREATE TEMP VIEW COLS3 AS SELECT \\\n",
    "  stock1.volume X, stock2.volume Y1, stock3.volume Y2 FROM stock1\\\n",
    "  INNER JOIN stock2 ON stock1.day = stock2.day\\\n",
    "   INNER JOIN stock3 ON stock1.Date = stock3.Date\"\\\n",
    "     ).show()\n",
    "\n",
    "\n"
   ]
  },
  {
   "cell_type": "code",
   "execution_count": 98,
   "metadata": {},
   "outputs": [
    {
     "name": "stdout",
     "output_type": "stream",
     "text": [
      "+-----+-----+------+\n",
      "|    X|   Y1|    Y2|\n",
      "+-----+-----+------+\n",
      "|50635|12000|200784|\n",
      "|51616|  400|170002|\n",
      "|54898|  100| 66159|\n",
      "|41555| 3200| 66159|\n",
      "|44430| 4976|387422|\n",
      "|72673| 4976|121141|\n",
      "|45426|  100| 90265|\n",
      "|61457|  100|128003|\n",
      "|61805|  100| 51492|\n",
      "+-----+-----+------+\n",
      "\n",
      "+-----+-----+------+------+\n",
      "|    X|   Y1|    Y2|Y_star|\n",
      "+-----+-----+------+------+\n",
      "|50635|12000|200784|   TWO|\n",
      "|51616|  400|170002|   TWO|\n",
      "|54898|  100| 66159|   TWO|\n",
      "|41555| 3200| 66159|   TWO|\n",
      "|44430| 4976|387422|   TWO|\n",
      "|72673| 4976|121141|   TWO|\n",
      "|45426|  100| 90265|   TWO|\n",
      "|61457|  100|128003|   TWO|\n",
      "|61805|  100| 51492|   TWO|\n",
      "+-----+-----+------+------+\n",
      "\n"
     ]
    }
   ],
   "source": [
    "spark.sql(\"SELECT * FROM COLS3\").show()\n",
    "\n",
    "spark.sql(\"SELECT *, CASE WHEN Y1 >= Y2 THEN 'ONE' WHEN Y2 > Y1 THEN 'TWO' END AS Y_star FROM COLS3\").show()"
   ]
  }
 ],
 "metadata": {
  "interpreter": {
   "hash": "9a95df2450c988ecaa48156885f40f8f4d0aecca6e0393df2e32f71b5b0bf7d9"
  },
  "kernelspec": {
   "display_name": "Python 3.6.8 ('bdm')",
   "language": "python",
   "name": "python3"
  },
  "language_info": {
   "codemirror_mode": {
    "name": "ipython",
    "version": 3
   },
   "file_extension": ".py",
   "mimetype": "text/x-python",
   "name": "python",
   "nbconvert_exporter": "python",
   "pygments_lexer": "ipython3",
   "version": "3.6.8"
  },
  "orig_nbformat": 4
 },
 "nbformat": 4,
 "nbformat_minor": 2
}
